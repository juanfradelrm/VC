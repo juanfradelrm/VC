{
 "cells": [
  {
   "cell_type": "markdown",
   "id": "d048fdd4",
   "metadata": {},
   "source": [
    "TAREA: Crea una imagen, p.e. de 800x800 píxeles, con la textura del tablero de ajedrez"
   ]
  },
  {
   "cell_type": "code",
   "execution_count": 2,
   "id": "52f9fc0c",
   "metadata": {},
   "outputs": [],
   "source": [
    "import cv2  \n",
    "import numpy as np\n",
    "import matplotlib.pyplot as plt"
   ]
  },
  {
   "cell_type": "code",
   "execution_count": 50,
   "id": "b0f97b4f",
   "metadata": {},
   "outputs": [],
   "source": [
    "#Se define el tamaño de la imagen\n",
    "size = 800"
   ]
  },
  {
   "cell_type": "code",
   "execution_count": 51,
   "id": "c3f86912",
   "metadata": {},
   "outputs": [],
   "source": [
    "#Se crea la imagen con todos los valores a 0 y un canal (escala de grises)\n",
    "table = np.zeros((size, size, 1), dtype=np.uint8)"
   ]
  },
  {
   "cell_type": "code",
   "execution_count": 52,
   "id": "82bcadcf",
   "metadata": {},
   "outputs": [
    {
     "data": {
      "text/plain": [
       "<matplotlib.image.AxesImage at 0x29231b6bb50>"
      ]
     },
     "execution_count": 52,
     "metadata": {},
     "output_type": "execute_result"
    },
    {
     "data": {
      "image/png": "[encoded data removed]",
      "text/plain": [
       "<Figure size 640x480 with 1 Axes>"
      ]
     },
     "metadata": {},
     "output_type": "display_data"
    }
   ],
   "source": [
    "# Dibujar el tablero de ajedrez\n",
    "\n",
    "#Bucle anidado para recorrer las \"casillas\" que equivales a 100x100 pixeles en la imagen\n",
    "for i in range(8):\n",
    "    for j in range(8):\n",
    "        \n",
    "        #Condición para pintar de blanco la casilla\n",
    "        if (i + j) % 2 == 0:\n",
    "            table[i*100:(i+1)*100, j*100:(j+1)*100] = 255\n",
    "\n",
    "# Mostrar la imagen\n",
    "plt.imshow(table, cmap='gray')\n",
    "\n"
   ]
  },
  {
   "cell_type": "markdown",
   "id": "17a84cf2",
   "metadata": {},
   "source": [
    "TAREA: Crear una imagen estilo Mondrian (un ejemplo https://www3.gobiernodecanarias.org/medusa/ecoescuela/sa/2017/04/17/descubriendo-a-mondrian/ ) con las funciones de dibujo de OpenCV"
   ]
  },
  {
   "cell_type": "code",
   "execution_count": 53,
   "id": "b75ae2ff",
   "metadata": {},
   "outputs": [
    {
     "data": {
      "text/plain": [
       "<matplotlib.image.AxesImage at 0x29231c51690>"
      ]
     },
     "execution_count": 53,
     "metadata": {},
     "output_type": "execute_result"
    },
    {
     "data": {
      "image/png": "[encoded data removed]",
      "text/plain": [
       "<Figure size 640x480 with 1 Axes>"
      ]
     },
     "metadata": {},
     "output_type": "display_data"
    }
   ],
   "source": [
    "moondrial = np.zeros((500,500,3), dtype=np.uint8)\n",
    "\n",
    "#Forma amarilla esquina superior izquierda\n",
    "cv2.rectangle(moondrial,(0,0),(125,200),(255,255,0),-1)\n",
    "cv2.rectangle(moondrial,(125,0),(250,150),(255,255,0),-1)\n",
    "\n",
    "#Rectangulo central rojo\n",
    "cv2.rectangle(moondrial,(125,150),(375,400),(255,0,0),-1)\n",
    "\n",
    "#Forma azul esquina superior derecha\n",
    "cv2.rectangle(moondrial,(250,0),(500,150),(0,0,255),-1)\n",
    "cv2.rectangle(moondrial,(375,150),(500,300),(0,0,255),-2)\n",
    "\n",
    "#Rectangulo blanco esquina inferior izquierda\n",
    "cv2.rectangle(moondrial,(0,200),(125,500),(255,255,255),-1)\n",
    "\n",
    "#Rectangulo azul inferior central\n",
    "cv2.rectangle(moondrial,(125,400),(250,500),(0,0,255),-1)\n",
    "\n",
    "#Rectangulo amarillo inferior central\n",
    "cv2.rectangle(moondrial,(250,400),(375,500),(255,255,0),-1)\n",
    "\n",
    "#Rectangulo amarillo esquina inferior derecha\n",
    "cv2.rectangle(moondrial,(375,300),(500,400),(255,255,0),-1)\n",
    "\n",
    "#Rectangulo blanco esquina inferior derecha\n",
    "cv2.rectangle(moondrial,(375,400),(500,500),(255,255,255),-1)\n",
    "\n",
    "plt.imshow(moondrial)"
   ]
  },
  {
   "cell_type": "markdown",
   "id": "3811a062",
   "metadata": {},
   "source": [
    "TAREA: Modifica de forma libre los valores de un plano de la imagen"
   ]
  },
  {
   "cell_type": "code",
   "execution_count": null,
   "id": "fdd2128d",
   "metadata": {},
   "outputs": [],
   "source": [
    "vid = cv2.VideoCapture(0)\n",
    "\n",
    "while(True):\n",
    "    #Fotograma a fotograma\n",
    "    ret, frame = vid.read()\n",
    "\n",
    "    if ret:\n",
    "        # Separamos los canales\n",
    "        b = frame[:, :, 0]\n",
    "        g = frame[:, :, 1]\n",
    "        r = frame[:, :, 2]\n",
    "\n",
    "        # Invertimos los valores de cada canal\n",
    "        b = 255 - b\n",
    "        g = 255 - g\n",
    "        r = 255 - r\n",
    "\n",
    "        # Creamos la imagen con los canales invertidos\n",
    "        invertida = cv2.merge((b, g, r))\n",
    "\n",
    "        # Mostramos la nueva imagen\n",
    "        cv2.imshow('Invertida', invertida)\n",
    "\n",
    "    # Si pulsamos ESC se detiene\n",
    "    if cv2.waitKey(20) == 27:\n",
    "        break\n",
    "\n",
    "# Termina la captura y cierra las ventanas\n",
    "vid.release()\n",
    "cv2.destroyAllWindows()"
   ]
  },
  {
   "cell_type": "markdown",
   "id": "8cff54df",
   "metadata": {},
   "source": [
    "TAREA: Llevar a cabo una propuesta propia de pop art"
   ]
  },
  {
   "cell_type": "code",
   "execution_count": 4,
   "id": "a0928ccd",
   "metadata": {},
   "outputs": [],
   "source": [
    "vid = cv2.VideoCapture(0)\n",
    "\n",
    "#Consigo el tamaño de la cámara para reducirlo\n",
    "w = int(vid.get(cv2.CAP_PROP_FRAME_WIDTH))\n",
    "h = int(vid.get(cv2.CAP_PROP_FRAME_HEIGHT))\n",
    "\n",
    "#Reducimos el tamaño para que quepa todo\n",
    "w = w//2\n",
    "h = h//2\n",
    "\n",
    "#Forzamos ese tamaño en la cámara\n",
    "vid.set(cv2.CAP_PROP_FRAME_HEIGHT, h)\n",
    "vid.set(cv2.CAP_PROP_FRAME_WIDTH, w)\n",
    "\n",
    "#Imagen conjunta con el doble de ancho y triple de alto\n",
    "collage = np.zeros((h*3,w*2,3), dtype = np.uint8)\n",
    "tl = collage[0:h, 0:w]\n",
    "tr = collage[0:h, w:w+w]\n",
    "\n",
    "ml = collage[h:h+h, 0:w]\n",
    "mr = collage[h:h+h, w:w+w]\n",
    "\n",
    "bl = collage[h+h:h*3, 0:w]\n",
    "br = collage[h+h:h*3, w:w+w]\n",
    "\n",
    "while(True):\n",
    "    ret, frame = vid.read()\n",
    "\n",
    "    # Cambiamos el tamaño de la imagen para que quepa\n",
    "    frame = cv2.resize(frame, (int(w),int(h)),cv2.INTER_NEAREST)\n",
    "    \n",
    "    if ret:\n",
    "        #Separamos los canales para luego modificarlos\n",
    "        b = frame[:, :, 0]\n",
    "        g = frame[:, :, 1]\n",
    "        r = frame[:, :, 2]\n",
    "\n",
    "        #Modificamos los valores\n",
    "        tl[:, :, 0] = b\n",
    "        tl[:, :, 1] = g\n",
    "        tl[:, :, 2] = r\n",
    "\n",
    "        tr[:, :, 0] = 255 - b\n",
    "        tr[:, :, 1] = 255 - g\n",
    "        tr[:, :, 2] = 255 - r\n",
    "\n",
    "        ml[:, :, 0] = 255 - b\n",
    "        ml[:, :, 1] = g\n",
    "        ml[:, :, 2] = r\n",
    "\n",
    "        mr[:, :, 0] = b\n",
    "        mr[:, :, 1] = 255 - g\n",
    "        mr[:, :, 2] = r\n",
    "\n",
    "        bl[:, :, 0] = b\n",
    "        bl[:, :, 1] = g\n",
    "        bl[:, :, 2] = 255 - r\n",
    "\n",
    "        br[:, :, 0] = 255 - g\n",
    "        br[:, :, 1] = r\n",
    "        br[:, :, 2] = 255 - b\n",
    "\n",
    "        cv2.imshow('Pop Art', collage)\n",
    "    \n",
    "    #Si pulsamos esc terminamos\n",
    "    if cv2.waitKey(20) == 27:\n",
    "        break\n",
    "\n",
    "#Terminamos la captura y cerramos las ventanas\n",
    "vid.release()\n",
    "cv2.destroyAllWindows()"
   ]
  }
 ],
 "metadata": {
  "kernelspec": {
   "display_name": "VC_P1",
   "language": "python",
   "name": "python3"
  },
  "language_info": {
   "codemirror_mode": {
    "name": "ipython",
    "version": 3
   },
   "file_extension": ".py",
   "mimetype": "text/x-python",
   "name": "python",
   "nbconvert_exporter": "python",
   "pygments_lexer": "ipython3",
   "version": "3.11.5"
  }
 },
 "nbformat": 4,
 "nbformat_minor": 5
}
